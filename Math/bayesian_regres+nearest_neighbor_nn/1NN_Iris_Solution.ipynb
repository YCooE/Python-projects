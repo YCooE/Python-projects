{
 "cells": [
  {
   "cell_type": "code",
   "execution_count": 1,
   "metadata": {},
   "outputs": [],
   "source": [
    "# DO NOT CHANGE THIS CELL\n",
    "\n",
    "import csv\n",
    "import numpy"
   ]
  },
  {
   "cell_type": "code",
   "execution_count": 2,
   "metadata": {},
   "outputs": [],
   "source": [
    "# DO NOT CHANGE THIS CELL\n",
    "\n",
    "def accuracy(t, tp):\n",
    "    \n",
    "    return 1.0 - ((t != tp).sum() / len(t))\n",
    "\n",
    "def load_iris(fname, seed=1):\n",
    "    \n",
    "    class_mappings = {'Iris-setosa':0, 'Iris-versicolor':1, 'Iris-virginica':2}\n",
    "    \n",
    "    X = []\n",
    "    t = []    \n",
    "    \n",
    "    # load dataset, line by line\n",
    "    with open(fname, 'r') as csvfile:\n",
    "\n",
    "        lines = csv.reader(csvfile)\n",
    "        for row in lines:\n",
    "\n",
    "            # convert the features (given as strings) to floats\n",
    "            x = [float(v) for v in row[:-1]]\n",
    "\n",
    "            # convert the string label to an integer\n",
    "            l = class_mappings[row[-1].strip()]\n",
    "\n",
    "            X.append(numpy.array(x))\n",
    "            t.append(l)\n",
    "    \n",
    "    X = numpy.array(X).reshape((len(X),4))\n",
    "    t = numpy.array(t)\n",
    "    \n",
    "    # The datapoints are given in sorted order w.r.t.\n",
    "    # the classes. Let us shuffle the order ...\n",
    "    numpy.random.seed(seed)\n",
    "    permutation = numpy.random.permutation(len(X))\n",
    "    X = X[permutation]\n",
    "    t = t[permutation]\n",
    "    \n",
    "    return X, t"
   ]
  },
  {
   "cell_type": "code",
   "execution_count": 3,
   "metadata": {},
   "outputs": [
    {
     "name": "stdout",
     "output_type": "stream",
     "text": [
      "Number of data points: 150\n",
      "Number of features per datapoint: 4\n",
      "Number of training points: 112\n",
      "Number of test points: 38\n"
     ]
    }
   ],
   "source": [
    "# DO NOT CHANGE THIS CELL\n",
    "\n",
    "X, t = load_iris('iris.data')\n",
    "print(\"Number of data points: %i\" % X.shape[0])\n",
    "print(\"Number of features per datapoint: %i\" % X.shape[1])\n",
    "      \n",
    "n_train = int(0.75 * len(X))\n",
    "X_train = X[:n_train]\n",
    "t_train = t[:n_train]\n",
    "X_test = X[n_train:]\n",
    "t_test = t[n_train:]\n",
    "print(\"Number of training points: %i\" % X_train.shape[0])\n",
    "print(\"Number of test points: %i\" % X_test.shape[0])"
   ]
  },
  {
   "cell_type": "code",
   "execution_count": 4,
   "metadata": {},
   "outputs": [],
   "source": [
    "class OneNearestNeighborClassifier:\n",
    "    \n",
    "    def __init__(self, dist_measure=\"euclidean\"):\n",
    "        \n",
    "        self.dist_measure = dist_measure\n",
    "    \n",
    "    def fit(self, X, t):\n",
    "        \n",
    "        self.X_train = X\n",
    "        self.t_train = t\n",
    "    \n",
    "    def predict(self, X):\n",
    "        \n",
    "        predictions = []\n",
    "        \n",
    "        for i in range(len(X)):\n",
    "            \n",
    "            dists = []\n",
    "            for j in range(len(self.X_train)):\n",
    "                \n",
    "                if self.dist_measure == \"euclidean\":\n",
    "                    d = self._euclideanDistance(X[i], self.X_train[j])\n",
    "                elif self.dist_measure == \"manhattan\":\n",
    "                    d = self._manhattenDistance(X[i], self.X_train[j])\n",
    "                else:\n",
    "                    raise Exception(\"Unknown distance measure!\")\n",
    "\n",
    "                dists.append(d)\n",
    "                \n",
    "            best_idx = numpy.argmin(numpy.array(dists))\n",
    "            \n",
    "            pred = self.t_train[best_idx]\n",
    "            \n",
    "            predictions.append(pred)\n",
    "            \n",
    "        return numpy.array(predictions)\n",
    "    \n",
    "    def _euclideanDistance(self, p, q):\n",
    "        \n",
    "        d = ((q - p)**2).sum()\n",
    "        d = numpy.sqrt(d)\n",
    "        \n",
    "        return d\n",
    "    \n",
    "    def _manhattenDistance(self, p, q):\n",
    "        \n",
    "        d = numpy.abs((q-p))\n",
    "        d = d.sum()\n",
    "        \n",
    "        return d\n",
    "                "
   ]
  },
  {
   "cell_type": "code",
   "execution_count": 5,
   "metadata": {},
   "outputs": [
    {
     "name": "stdout",
     "output_type": "stream",
     "text": [
      "Final accuracy on test set (Euclidean distance): 0.894737\n"
     ]
    }
   ],
   "source": [
    "# DO NOT CHANGE THIS CELL\n",
    "\n",
    "# fit model on training instances\n",
    "model = OneNearestNeighborClassifier(dist_measure=\"euclidean\")\n",
    "model.fit(X_train, t_train)\n",
    "# get predictions on test set\n",
    "preds_euclidean = model.predict(X_test)\n",
    "acc_euclidean = accuracy(t_test, preds_euclidean)\n",
    "print(\"Final accuracy on test set (Euclidean distance): %f\" % acc_euclidean)"
   ]
  },
  {
   "cell_type": "code",
   "execution_count": 6,
   "metadata": {},
   "outputs": [
    {
     "name": "stdout",
     "output_type": "stream",
     "text": [
      "Final accuracy on test set (Manhattan distance): 0.868421\n"
     ]
    }
   ],
   "source": [
    "# DO NOT CHANGE THIS CELL\n",
    "\n",
    "# fit model on training instances\n",
    "model = OneNearestNeighborClassifier(dist_measure=\"manhattan\")\n",
    "model.fit(X_train, t_train)\n",
    "# get predictions on test set\n",
    "preds_manhattan = model.predict(X_test)\n",
    "acc_manhattan = accuracy(t_test, preds_manhattan)\n",
    "print(\"Final accuracy on test set (Manhattan distance): %f\" % acc_manhattan)"
   ]
  },
  {
   "cell_type": "code",
   "execution_count": null,
   "metadata": {},
   "outputs": [],
   "source": []
  },
  {
   "cell_type": "code",
   "execution_count": null,
   "metadata": {},
   "outputs": [],
   "source": []
  }
 ],
 "metadata": {
  "kernelspec": {
   "display_name": "Python 3",
   "language": "python",
   "name": "python3"
  },
  "language_info": {
   "codemirror_mode": {
    "name": "ipython",
    "version": 3
   },
   "file_extension": ".py",
   "mimetype": "text/x-python",
   "name": "python",
   "nbconvert_exporter": "python",
   "pygments_lexer": "ipython3",
   "version": "3.5.2"
  }
 },
 "nbformat": 4,
 "nbformat_minor": 2
}
