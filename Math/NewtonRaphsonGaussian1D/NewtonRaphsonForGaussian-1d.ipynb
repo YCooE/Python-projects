{
 "cells": [
  {
   "cell_type": "code",
   "execution_count": 2,
   "metadata": {
    "collapsed": true
   },
   "outputs": [],
   "source": [
    "import numpy as np"
   ]
  },
  {
   "cell_type": "code",
   "execution_count": 3,
   "metadata": {
    "collapsed": true
   },
   "outputs": [],
   "source": [
    "# Computes the first order derivative of the log likelihood\n",
    "# Arguments:\n",
    "#   mu:     The mean of the distribution\n",
    "#   sigma2: The variance of the distribution\n",
    "#   X:      An array of samples from the distribution\n",
    "def compFirstDeriv( mu, sigma2, X ):\n",
    "    tmp_sum = sum([ (xi - mu) ** 2.0 for xi in X ])\n",
    "    return - ( len(X) / (2.0 * sigma2) ) + ( tmp_sum / (2.0 * sigma2 ** 2.0) )\n",
    "\n",
    "# Computes the second order derivative of the log likelihood\n",
    "# Arguments:\n",
    "#   mu:     The mean of the distribution\n",
    "#   sigma2: The variance of the distribution\n",
    "#   X:      An array of samples from the distribution\n",
    "def compSecondDeriv( mu, sigma2, X ):\n",
    "    tmp_sum = sum([ (xi - mu) ** 2.0 for xi in X])\n",
    "    return - ( tmp_sum / (sigma2 ** 3.0) ) + ( len(X) / (2.0 * sigma2 ** 2.0) )\n"
   ]
  },
  {
   "cell_type": "code",
   "execution_count": null,
   "metadata": {
    "collapsed": true
   },
   "outputs": [],
   "source": [
    "# Now we generate a sample of size n from a normal distribution with\n",
    "# mean mu and variance sigma2. Note that np.random.normal takes the\n",
    "# standard deviation as its second argument so we need to take the square\n",
    "# root of sigma2. \n",
    "n = 40\n",
    "mu = 3\n",
    "sigma2 = 0.5\n",
    "np.random.seed(1) # Set the seed so we are able to reproduce results\n",
    "X = np.random.normal(mu, np.sqrt(sigma2), n)\n",
    "\n",
    "\n",
    "# We now apply the NR method to estimate the theta that maximizes the likelihood function. \n",
    "# We use a max_iterations to make sure the loop terminates\n",
    "# and a minimum threshhold to make the iteration terminate early if we the objective function \n",
    "# does not change much anymore.\n",
    "max_iter, i = 100, 0\n",
    "min_threshold = 0.00000001\n",
    "theta = 0.1\n",
    "stop = False\n",
    "output = True\n",
    "\n",
    "while (i < max_iter and not stop ):\n",
    "    i += 1\n",
    "    prevTheta = theta\n",
    "    theta -= compFirstDeriv(mu, theta, X) / compSecondDeriv(mu, theta, X)\n",
    "    if output:\n",
    "        print('Current estimate of the variance:\\t', theta)\n",
    "    stop = abs(theta - prevTheta) < min_threshold\n",
    "\n",
    "# Print the result of NR\n",
    "print('\\nEstimated variance using NR:\\t', theta)\n",
    "\n",
    "# In this example, the maximum of the likelihood function can be computed analytically. We also show this. \n",
    "print('\\nAs a comparison, we also show the estimate 1/n sum_i((X_i - 3)^2):\\t', sum((X-3) ** 2.0) / n)\n",
    "\n"
   ]
  },
  {
   "cell_type": "code",
   "execution_count": null,
   "metadata": {
    "collapsed": true
   },
   "outputs": [],
   "source": []
  },
  {
   "cell_type": "code",
   "execution_count": null,
   "metadata": {
    "collapsed": true
   },
   "outputs": [],
   "source": []
  }
 ],
 "metadata": {
  "anaconda-cloud": {},
  "kernelspec": {
   "display_name": "Python 3",
   "language": "python",
   "name": "python3"
  },
  "language_info": {
   "codemirror_mode": {
    "name": "ipython",
    "version": 3
   },
   "file_extension": ".py",
   "mimetype": "text/x-python",
   "name": "python",
   "nbconvert_exporter": "python",
   "pygments_lexer": "ipython3",
   "version": "3.6.1"
  }
 },
 "nbformat": 4,
 "nbformat_minor": 1
}
